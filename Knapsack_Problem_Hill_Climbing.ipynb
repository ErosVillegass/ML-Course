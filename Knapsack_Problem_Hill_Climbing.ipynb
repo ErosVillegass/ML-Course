{
  "nbformat": 4,
  "nbformat_minor": 0,
  "metadata": {
    "colab": {
      "provenance": [],
      "authorship_tag": "ABX9TyMjNCZC/vKfvfk1g0+pg7vw",
      "include_colab_link": true
    },
    "kernelspec": {
      "name": "python3",
      "display_name": "Python 3"
    },
    "language_info": {
      "name": "python"
    }
  },
  "cells": [
    {
      "cell_type": "markdown",
      "metadata": {
        "id": "view-in-github",
        "colab_type": "text"
      },
      "source": [
        "<a href=\"https://colab.research.google.com/github/ErosVillegass/ML-Course/blob/main/Knapsack_Problem_Hill_Climbing.ipynb\" target=\"_parent\"><img src=\"https://colab.research.google.com/assets/colab-badge.svg\" alt=\"Open In Colab\"/></a>"
      ]
    },
    {
      "cell_type": "markdown",
      "source": [
        "1. Representación de la Solución\n",
        "Una solución será una lista de bits (0 o 1), donde:\n",
        "\n",
        "1: El objeto sí va en la mochila.\n",
        "\n",
        "0: El objeto no va en la mochila.\n",
        "\n",
        "Ejemplo:\n",
        "\n",
        "Objetos: [A, B, C, D] → Solución [1, 0, 1, 0] significa que se seleccionan A y C."
      ],
      "metadata": {
        "id": "YozO-roVu0r-"
      }
    },
    {
      "cell_type": "markdown",
      "source": [
        "2. Función para Generar una Solución Inicial Aleatoria\n",
        "Genera una solución aleatoria válida (que no exceda la capacidad W)\n"
      ],
      "metadata": {
        "id": "J2tvjTWXu4WU"
      }
    },
    {
      "cell_type": "code",
      "execution_count": null,
      "metadata": {
        "id": "TEL658YlubJz"
      },
      "outputs": [],
      "source": [
        "import random\n",
        "def generar_solucion_inicial(pesos, capacidad):\n",
        "    n = len(pesos)\n",
        "    solucion = [0] * n\n",
        "    peso_actual = 0\n",
        "\n",
        "    while True:\n",
        "        idx = random.randint(0, n - 1)\n",
        "        if solucion[idx] == 0 and peso_actual + pesos[idx] <= capacidad:\n",
        "            solucion[idx] = 1\n",
        "            peso_actual += pesos[idx]\n",
        "        else:\n",
        "            break  # No cabe ningún objeto adicional\n",
        "    return solucion"
      ]
    },
    {
      "cell_type": "markdown",
      "source": [
        "3. Función para Evaluar (Fitness) una Solución\n",
        "Calcula el valor total de la mochila. Si excede la capacidad, el fitness es 0 (solución inválida)."
      ],
      "metadata": {
        "id": "aA4kH2VivCJv"
      }
    },
    {
      "cell_type": "code",
      "source": [
        "def evaluar_solucion(solucion, pesos, valores, capacidad):\n",
        "    peso_total = sum(pesos[i] for i in range(len(solucion)) if solucion[i] == 1)\n",
        "    if peso_total > capacidad:\n",
        "        return 0  # Solución inválida\n",
        "    return sum(valores[i] for i in range(len(solucion)) if solucion[i] == 1)"
      ],
      "metadata": {
        "id": "X-3gJOFGvC7j"
      },
      "execution_count": null,
      "outputs": []
    },
    {
      "cell_type": "markdown",
      "source": [
        "4. Función para Generar Vecinos\n",
        "Genera soluciones vecinas modificando un bit de la solución actual (añadir/eliminar un objeto)."
      ],
      "metadata": {
        "id": "PoNKwQdQvG0d"
      }
    },
    {
      "cell_type": "code",
      "source": [
        "def generar_vecinos(solucion, pesos, capacidad):\n",
        "    vecinos = []\n",
        "    n = len(solucion)\n",
        "\n",
        "    for i in range(n):\n",
        "        vecino = solucion.copy()\n",
        "        vecino[i] = 1 - vecino[i]  # Cambia 0→1 o 1→0\n",
        "\n",
        "        # Verificar si el vecino es válido (peso <= capacidad)\n",
        "        peso_vecino = sum(pesos[j] for j in range(n) if vecino[j] == 1)\n",
        "        if peso_vecino <= capacidad:\n",
        "            vecinos.append(vecino)\n",
        "    return vecinos"
      ],
      "metadata": {
        "id": "FQLm4MthvGdn"
      },
      "execution_count": null,
      "outputs": []
    },
    {
      "cell_type": "markdown",
      "source": [
        "5. Algoritmo Hill Climbing"
      ],
      "metadata": {
        "id": "cDfokrrJvOlk"
      }
    },
    {
      "cell_type": "code",
      "source": [
        "def hill_climbing(pesos, valores, capacidad, max_iter=100):\n",
        "    # Paso 1: Generar solución inicial\n",
        "    solucion_actual = generar_solucion_inicial(pesos, capacidad)\n",
        "    valor_actual = evaluar_solucion(solucion_actual, pesos, valores, capacidad)\n",
        "\n",
        "    for _ in range(max_iter):\n",
        "        # Paso 2: Generar vecinos válidos\n",
        "        vecinos = generar_vecinos(solucion_actual, pesos, capacidad)\n",
        "\n",
        "        if not vecinos:\n",
        "            break  # No hay vecinos válidos\n",
        "\n",
        "        # Paso 3: Evaluar todos los vecinos\n",
        "        mejor_vecino = None\n",
        "        mejor_valor = valor_actual\n",
        "\n",
        "        for vecino in vecinos:\n",
        "            valor_vecino = evaluar_solucion(vecino, pesos, valores, capacidad)\n",
        "            if valor_vecino > mejor_valor:\n",
        "                mejor_vecino = vecino\n",
        "                mejor_valor = valor_vecino\n",
        "\n",
        "        # Paso 4: Actualizar si hay mejora\n",
        "        if mejor_valor > valor_actual:\n",
        "            solucion_actual = mejor_vecino\n",
        "            valor_actual = mejor_valor\n",
        "        else:\n",
        "            break  # Máximo local alcanzado\n",
        "\n",
        "    return solucion_actual, valor_actual"
      ],
      "metadata": {
        "id": "7vMv-5ILvMjf"
      },
      "execution_count": null,
      "outputs": []
    }
  ]
}