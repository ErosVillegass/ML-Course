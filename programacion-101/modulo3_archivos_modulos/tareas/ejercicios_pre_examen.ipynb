{
  "nbformat": 4,
  "nbformat_minor": 0,
  "metadata": {
    "colab": {
      "provenance": [],
      "include_colab_link": true
    },
    "kernelspec": {
      "name": "python3",
      "display_name": "Python 3"
    },
    "language_info": {
      "name": "python"
    }
  },
  "cells": [
    {
      "cell_type": "markdown",
      "metadata": {
        "id": "view-in-github",
        "colab_type": "text"
      },
      "source": [
        "<a href=\"https://colab.research.google.com/github/ErosVillegass/ML-Course/blob/main/programacion-101/modulo3_archivos_modulos/tareas/ejercicios_pre_examen.ipynb\" target=\"_parent\"><img src=\"https://colab.research.google.com/assets/colab-badge.svg\" alt=\"Open In Colab\"/></a>"
      ]
    },
    {
      "cell_type": "markdown",
      "source": [
        "#**Ejercicios - Funciones y Clases**"
      ],
      "metadata": {
        "id": "rD7lP48iAvnR"
      }
    },
    {
      "cell_type": "code",
      "source": [
        "# --------------------------------------------\n",
        "# Ejercicio 1: Registro de astronautas\n",
        "# --------------------------------------------\n",
        "# Crea una función que registre astronautas con nombre, edad y especialidad.\n",
        "# Luego, almacena 3 astronautas y devuelve una lista con aquellos cuya\n",
        "# especialidad sea exactamente \"Ingeniero de vuelo\" (case-sensitive).\n",
        "\n",
        "registro_astronautas_lista = []\n",
        "\n",
        "def registrar_astronauta(nombre: str, edad: int, especialidad: str) -> str:\n",
        "    registro_astronautas = {}\n",
        "    registro_astronautas[\"nombre\"] = nombre\n",
        "    registro_astronautas[\"edad\"] = edad\n",
        "    registro_astronautas[\"especialidad\"] = especialidad\n",
        "    registro_astronautas_lista.append(registro_astronautas)\n",
        "    print(f\"Astronauta registrado: {nombre} - {edad} años - Especialidad: {especialidad}\")\n",
        "\n",
        "    return registro_astronautas_lista\n",
        "\n",
        "def buscar_especilidad(astronauta_base):\n",
        "\n",
        "    for x in range(0, len(astronauta_base)):\n",
        "      if astronauta_base[x][\"especialidad\"].lower() ==\"ingeniero de vuelo\":\n",
        "        print(f\"{astronauta_base[x]['nombre']}\")\n",
        "        print(f\"{astronauta_base[x]['edad']}\")\n",
        "        print(f\"{astronauta_base[x]['especialidad']}\")\n",
        "\n",
        "\n",
        "# Tu código aquí para crear lista y filtrar\n",
        "astronauta_one = registrar_astronauta(\"Eros\",30,\"Ingeniero de vuelo\")\n",
        "astronauta_two = registrar_astronauta(\"Marcelo\",31,\"Ingeniero de motores\")\n",
        "astronauta_three = registrar_astronauta(\"Ares\",29,\"Ingeniero de vuelo\")\n",
        "\n",
        "print(registro_astronautas_lista)\n",
        "\n",
        "buscar_especilidad(registro_astronautas_lista)\n",
        "\n",
        "\n",
        "\n",
        "\n"
      ],
      "metadata": {
        "id": "UAIGVucPAEdr",
        "colab": {
          "base_uri": "https://localhost:8080/"
        },
        "outputId": "cdf227aa-a592-4378-8850-4e495d542c38"
      },
      "execution_count": 43,
      "outputs": [
        {
          "output_type": "stream",
          "name": "stdout",
          "text": [
            "Astronauta registrado: Eros - 30 años - Especialidad: Ingeniero de vuelo\n",
            "Astronauta registrado: Marcelo - 31 años - Especialidad: Ingeniero de motores\n",
            "Astronauta registrado: Ares - 29 años - Especialidad: Ingeniero de vuelo\n",
            "[{'nombre': 'Eros', 'edad': 30, 'especialidad': 'Ingeniero de vuelo'}, {'nombre': 'Marcelo', 'edad': 31, 'especialidad': 'Ingeniero de motores'}, {'nombre': 'Ares', 'edad': 29, 'especialidad': 'Ingeniero de vuelo'}]\n",
            "Eros\n",
            "30\n",
            "Ingeniero de vuelo\n",
            "Ares\n",
            "29\n",
            "Ingeniero de vuelo\n"
          ]
        }
      ]
    },
    {
      "cell_type": "code",
      "source": [
        "# --------------------------------------------\n",
        "# Ejercicio 2: Códigos de lanzamiento\n",
        "# --------------------------------------------\n",
        "# Dado un string como \"A23B56C90\", extrae los números y retorna\n",
        "# el promedio de los números pares. Usa slicing y comprensión de listas.\n",
        "\n",
        "numbers = []\n",
        "\n",
        "for number in range(0,10):\n",
        "  numbers.append(str(number))\n",
        "\n",
        "def procesar_codigo(codigo: str) -> float:\n",
        "    input = list(codigo)\n",
        "    list_number = [x for x in input if x in numbers]\n",
        "    pair_number = [int(x) for x in list_number if int(x)% 2 == 0]\n",
        "    print(pair_number)\n",
        "    average = sum(pair_number)/len(pair_number)\n",
        "    return average\n",
        "\n",
        "procesar_codigo(\"A23B56C902150\")\n"
      ],
      "metadata": {
        "id": "iMZC8QQA-svk",
        "colab": {
          "base_uri": "https://localhost:8080/"
        },
        "outputId": "74eeb7ae-1ba1-4f0d-a1fb-d5cad0363027"
      },
      "execution_count": 70,
      "outputs": [
        {
          "output_type": "stream",
          "name": "stdout",
          "text": [
            "[2, 6, 0, 2, 0]\n"
          ]
        },
        {
          "output_type": "execute_result",
          "data": {
            "text/plain": [
              "2.0"
            ]
          },
          "metadata": {},
          "execution_count": 70
        }
      ]
    },
    {
      "cell_type": "code",
      "source": [],
      "metadata": {
        "id": "ssXCI_S8AOpl"
      },
      "execution_count": null,
      "outputs": []
    },
    {
      "cell_type": "code",
      "source": [
        "# --------------------------------------------\n",
        "# Ejercicio 3: Mapeo de módulos de la nave\n",
        "# --------------------------------------------\n",
        "# Dado un diccionario con estados de módulos (\"activo\"/\"inactivo\"),\n",
        "# devuelve un set con los módulos activos.\n",
        "# Usa assert y lanza RuntimeError si todos están inactivos.\n",
        "\n",
        "def modulos_activos(sistema: dict[str, str]) -> set[str]:\n",
        "    # Tu código aquí\n",
        "    pass\n"
      ],
      "metadata": {
        "id": "0uZX9eqmAQuZ"
      },
      "execution_count": null,
      "outputs": []
    },
    {
      "cell_type": "code",
      "source": [],
      "metadata": {
        "id": "RZMFMr5uARNq"
      },
      "execution_count": null,
      "outputs": []
    },
    {
      "cell_type": "code",
      "source": [
        "# --------------------------------------------\n",
        "# Ejercicio 4: Simulación de batería\n",
        "# --------------------------------------------\n",
        "# Crea una clase BateriaSolar con atributos y métodos para cargar y consumir batería.\n",
        "# Simula la operación y devuelve el nivel antes y después.\n",
        "\n",
        "class BateriaSolar:\n",
        "    def __init__(self, nivel: float):\n",
        "        self.nivel = max(0, min(nivel, 100))\n",
        "\n",
        "    def cargar(self, horas: float, tasa: float = 0.10):\n",
        "        self.nivel += horas * 100 * tasa\n",
        "        self.nivel = min(self.nivel, 100)\n",
        "\n",
        "    def consumir(self, uso: float):\n",
        "        self.nivel -= uso\n",
        "        self.nivel = max(self.nivel, 0)\n",
        "\n",
        "    def simular(self, horas: float, uso: float) -> tuple[float, float]:\n",
        "        antes = self.nivel\n",
        "        self.cargar(horas)\n",
        "        self.consumir(uso)\n",
        "        return (antes, self.nivel)\n",
        "\n",
        "# Prueba tu clase aquí\n"
      ],
      "metadata": {
        "id": "sY91STxWARqu"
      },
      "execution_count": null,
      "outputs": []
    },
    {
      "cell_type": "code",
      "source": [],
      "metadata": {
        "id": "nqECsvLjAUOn"
      },
      "execution_count": null,
      "outputs": []
    },
    {
      "cell_type": "code",
      "source": [
        "# --------------------------------------------\n",
        "# Ejercicio 5: Matriz de sensores\n",
        "# --------------------------------------------\n",
        "# Crea una clase SensorMatriz con métodos para calcular el promedio\n",
        "# de temperaturas y retornar las coordenadas donde hay alertas > 70.\n",
        "\n",
        "class SensorMatriz:\n",
        "    def __init__(self, matriz: list[list[float]]):\n",
        "        self.matriz = matriz\n",
        "\n",
        "    def promedio(self) -> float:\n",
        "        total = sum(sum(fila) for fila in self.matriz)\n",
        "        count = sum(len(fila) for fila in self.matriz)\n",
        "        return total / count\n",
        "\n",
        "    def alertas(self, umbral: float = 70.0) -> list[tuple[int, int]]:\n",
        "        return [(i, j)\n",
        "                for i in range(len(self.matriz))\n",
        "                for j in range(len(self.matriz[0]))\n",
        "                if self.matriz[i][j] > umbral]\n",
        "\n",
        "# Prueba aquí con una matriz 3x3\n"
      ],
      "metadata": {
        "id": "QVMRouR8AZZA"
      },
      "execution_count": null,
      "outputs": []
    },
    {
      "cell_type": "code",
      "source": [],
      "metadata": {
        "id": "0x4iX5a1AZ9Y"
      },
      "execution_count": null,
      "outputs": []
    },
    {
      "cell_type": "code",
      "source": [
        "# --------------------------------------------\n",
        "# Ejercicio 6: Bitácora de vuelo\n",
        "# --------------------------------------------\n",
        "# Escribe mensajes con fecha en un archivo de bitácora. Si hay error, loguea en otro archivo.\n",
        "\n",
        "from datetime import datetime\n",
        "\n",
        "def escribir_bitacora(mensaje: str) -> None:\n",
        "    timestamp = datetime.now().strftime('%Y-%m-%d %H:%M')\n",
        "    try:\n",
        "        with open(\"bitacora.txt\", \"a\") as f:\n",
        "            f.write(f\"{timestamp} - {mensaje}\\n\")\n",
        "    except:\n",
        "        with open(\"bitacora_error.log\", \"a\") as f:\n",
        "            f.write(f\"{timestamp} - ERROR DE ESCRITURA\\n\")\n",
        "\n",
        "# Prueba aquí\n"
      ],
      "metadata": {
        "id": "cc5y7rhtAaNn"
      },
      "execution_count": null,
      "outputs": []
    },
    {
      "cell_type": "code",
      "source": [],
      "metadata": {
        "id": "XbnDU4pIAcbn"
      },
      "execution_count": null,
      "outputs": []
    },
    {
      "cell_type": "code",
      "source": [
        "# --------------------------------------------\n",
        "# Ejercicio 7: Módulo de comunicación\n",
        "# --------------------------------------------\n",
        "# Crea una clase que simule un canal de comunicación con validación de conexión\n",
        "# y bloqueo por palabras clave.\n",
        "\n",
        "class ModuloComunicacion:\n",
        "    def __init__(self):\n",
        "        self.conectado = False\n",
        "\n",
        "    def conectar(self):\n",
        "        self.conectado = True\n",
        "\n",
        "    def desconectar(self):\n",
        "        self.conectado = False\n",
        "\n",
        "    def enviar_mensaje(self, msg: str) -> str:\n",
        "        if not self.conectado:\n",
        "            raise ConnectionError(\"Sin enlace\")\n",
        "\n",
        "        prohibidas = {\"error\", \"falla\", \"crítico\"}\n",
        "        count = sum(1 for palabra in prohibidas if palabra in msg.lower())\n",
        "        if count >= 3:\n",
        "            return \"Mensaje bloqueado\"\n",
        "        return \"Mensaje enviado\"\n",
        "\n",
        "# Prueba tu clase aquí\n"
      ],
      "metadata": {
        "id": "GrI0sNWwAcwZ"
      },
      "execution_count": null,
      "outputs": []
    },
    {
      "cell_type": "code",
      "source": [],
      "metadata": {
        "id": "dC5IaFNzAelD"
      },
      "execution_count": null,
      "outputs": []
    },
    {
      "cell_type": "code",
      "source": [
        "# --------------------------------------------\n",
        "# Ejercicio 8: Carga útil de la nave\n",
        "# --------------------------------------------\n",
        "# Filtra cargas cuyo peso sea menor a 130 y devuelve la lista y el total.\n",
        "\n",
        "def filtrar_carga(cargas: list[tuple[str, int]], limite: int = 130) -> tuple[list[tuple[str,int]], int]:\n",
        "    filtradas = [c for c in cargas if c[1] < limite]\n",
        "    total = sum(c[1] for c in filtradas)\n",
        "    return filtradas, total\n",
        "\n",
        "# Prueba con ejemplo\n"
      ],
      "metadata": {
        "id": "EAJSHjKiAe-A"
      },
      "execution_count": null,
      "outputs": []
    },
    {
      "cell_type": "code",
      "source": [],
      "metadata": {
        "id": "mFLqd88FAhXh"
      },
      "execution_count": null,
      "outputs": []
    },
    {
      "cell_type": "code",
      "source": [
        "# --------------------------------------------\n",
        "# Ejercicio 9: Monitor de fallas\n",
        "# --------------------------------------------\n",
        "# Recibe un diccionario con niveles de falla. Lanza excepción si alguno > 90\n",
        "# y devuelve módulos \"seguros\" (nivel < 70).\n",
        "\n",
        "def verificar_modulos(fallas: dict[str, int]) -> list[str]:\n",
        "    for modulo, nivel in fallas.items():\n",
        "        if nivel > 90:\n",
        "            raise ValueError(f\"Falla crítica en {modulo}\")\n",
        "    return [m for m, n in fallas.items() if n < 70]\n",
        "\n",
        "# Prueba aquí\n"
      ],
      "metadata": {
        "id": "4PiPTFGiAhoX"
      },
      "execution_count": null,
      "outputs": []
    },
    {
      "cell_type": "code",
      "source": [],
      "metadata": {
        "id": "DuKkbbIxAj3L"
      },
      "execution_count": null,
      "outputs": []
    },
    {
      "cell_type": "code",
      "source": [
        "# --------------------------------------------\n",
        "# Ejercicio 10: Nave espacial (módulos y paquetes)\n",
        "# --------------------------------------------\n",
        "# Crea un archivo llamado nave.py con la siguiente clase:\n",
        "\n",
        "# En nave.py\n",
        "# --------------------------\n",
        "# class NaveEspacial:\n",
        "#     def __init__(self, nombre, combustible, tripulacion):\n",
        "#         self.nombre = nombre\n",
        "#         self.combustible = combustible\n",
        "#         self.tripulacion = tripulacion\n",
        "#\n",
        "#     def despegar(self):\n",
        "#         return \"Despegue exitoso\" if self.combustible > 50 else \"Combustible insuficiente\"\n",
        "# --------------------------\n",
        "\n",
        "# En tu notebook o script principal:\n",
        "from nave import NaveEspacial\n",
        "\n",
        "nave = NaveEspacial(\"Odisea\", 75, [\"Alice\", \"Bob\"])\n",
        "print(nave.despegar())\n"
      ],
      "metadata": {
        "id": "hcYcB7fpAkFr"
      },
      "execution_count": null,
      "outputs": []
    },
    {
      "cell_type": "code",
      "source": [],
      "metadata": {
        "id": "EYk5WNAMAmGK"
      },
      "execution_count": null,
      "outputs": []
    },
    {
      "cell_type": "markdown",
      "source": [
        "#Gracias por completar este laboratorio!"
      ],
      "metadata": {
        "id": "e9C9Bv6aArcZ"
      }
    }
  ]
}