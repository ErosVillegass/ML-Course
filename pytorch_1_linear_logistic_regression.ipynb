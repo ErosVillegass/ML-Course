{
  "nbformat": 4,
  "nbformat_minor": 0,
  "metadata": {
    "colab": {
      "provenance": [],
      "collapsed_sections": [
        "XGElCAKxmBxQ",
        "vEX2A715Kj10",
        "snzq88EReDA_",
        "atJQZ75qKtTl"
      ],
      "include_colab_link": true
    },
    "kernelspec": {
      "name": "python3",
      "display_name": "Python 3"
    },
    "language_info": {
      "name": "python"
    },
    "accelerator": "GPU"
  },
  "cells": [
    {
      "cell_type": "markdown",
      "metadata": {
        "id": "view-in-github",
        "colab_type": "text"
      },
      "source": [
        "<a href=\"https://colab.research.google.com/github/ErosVillegass/ML-Course/blob/main/pytorch_1_linear_logistic_regression.ipynb\" target=\"_parent\"><img src=\"https://colab.research.google.com/assets/colab-badge.svg\" alt=\"Open In Colab\"/></a>"
      ]
    },
    {
      "cell_type": "markdown",
      "source": [
        "# Introducción"
      ],
      "metadata": {
        "id": "XGElCAKxmBxQ"
      }
    },
    {
      "cell_type": "code",
      "execution_count": null,
      "metadata": {
        "colab": {
          "base_uri": "https://localhost:8080/",
          "height": 52
        },
        "id": "2kXv2PAX7P-d",
        "outputId": "e7ab4b0e-c08e-4e88-9138-575251003ef7"
      },
      "outputs": [
        {
          "output_type": "stream",
          "name": "stdout",
          "text": [
            "tensor([0.0597, 0.1799, 0.5045])\n"
          ]
        },
        {
          "output_type": "execute_result",
          "data": {
            "text/plain": [
              "'1.13.1+cu116'"
            ],
            "application/vnd.google.colaboratory.intrinsic+json": {
              "type": "string"
            }
          },
          "metadata": {},
          "execution_count": 2
        }
      ],
      "source": [
        "import torch\n",
        "x = torch.rand(3)\n",
        "print(x)\n",
        "torch.cuda.is_available()\n",
        "torch.__version__"
      ]
    },
    {
      "cell_type": "markdown",
      "source": [
        "Tensors"
      ],
      "metadata": {
        "id": "RUe4qPmZ8YSg"
      }
    },
    {
      "cell_type": "code",
      "source": [
        "import torch\n",
        "x = torch.empty(3) # create a empty tensor\n",
        "print(x)\n",
        "x = torch.empty(2,2) # create a empty tensor\n",
        "print(x)\n",
        "x = torch.zeros(2,3) # tensor of zeros\n",
        "print(x)\n",
        "x = torch.ones(2,2, dtype=torch.float16) # tensor of floats\n",
        "print(x, x.size())\n",
        "x = torch.tensor([2, 3])\n",
        "print(x)"
      ],
      "metadata": {
        "colab": {
          "base_uri": "https://localhost:8080/"
        },
        "id": "kmh60fHE8Z5B",
        "outputId": "f9b487cc-ec32-4998-cdb3-440bc8b2141f"
      },
      "execution_count": null,
      "outputs": [
        {
          "output_type": "stream",
          "name": "stdout",
          "text": [
            "tensor([1.4451e-35, 0.0000e+00, 3.3631e-44])\n",
            "tensor([[1.4450e-35, 0.0000e+00],\n",
            "        [3.3631e-44, 0.0000e+00]])\n",
            "tensor([[0., 0., 0.],\n",
            "        [0., 0., 0.]])\n",
            "tensor([[1., 1.],\n",
            "        [1., 1.]], dtype=torch.float16) torch.Size([2, 2])\n",
            "tensor([2, 3])\n",
            "tensor([[0.9484, 1.0900],\n",
            "        [1.4821, 1.6179]])\n"
          ]
        }
      ]
    },
    {
      "cell_type": "code",
      "source": [
        "# operations with tensors\n",
        "x = torch.rand(2,2)\n",
        "y = torch.rand(2,2)\n",
        "print(x, y)\n",
        "z = x + y\n",
        "print(z)\n",
        "\n",
        "y.add_(x) # modifica y y le agrega x\n",
        "print(y)\n",
        "\n",
        "z = x * y\n",
        "print(z)\n",
        "z = torch.mul(x, y) # torch.div, torch.add, torch.sub\n",
        "print(z)"
      ],
      "metadata": {
        "colab": {
          "base_uri": "https://localhost:8080/"
        },
        "id": "2lJ3i9Ee_IiP",
        "outputId": "de3b07c7-e17e-4d22-b910-ccb527edfacf"
      },
      "execution_count": null,
      "outputs": [
        {
          "output_type": "stream",
          "name": "stdout",
          "text": [
            "tensor([[0.4351, 0.4462],\n",
            "        [0.7706, 0.5783]]) tensor([[0.1186, 0.7497],\n",
            "        [0.3971, 0.2931]])\n",
            "tensor([[0.5538, 1.1959],\n",
            "        [1.1677, 0.8714]])\n",
            "tensor([[0.5538, 1.1959],\n",
            "        [1.1677, 0.8714]])\n",
            "tensor([[0.2410, 0.5336],\n",
            "        [0.8999, 0.5039]])\n",
            "tensor([[0.2410, 0.5336],\n",
            "        [0.8999, 0.5039]])\n"
          ]
        }
      ]
    },
    {
      "cell_type": "markdown",
      "source": [
        "Slicing and reshape"
      ],
      "metadata": {
        "id": "chv7mMyLBODY"
      }
    },
    {
      "cell_type": "code",
      "source": [
        "# slicing\n",
        "import torch\n",
        "\n",
        "x = torch.rand(5, 3)\n",
        "print(x[1:3, :])\n",
        "\n",
        "print(x[1,2].item()) # para extraer un elemento\n",
        "print(x.view(15)) # reshape to 1x15\n",
        "print(x.view(3, 5)) # reshape to 3x5"
      ],
      "metadata": {
        "colab": {
          "base_uri": "https://localhost:8080/"
        },
        "id": "N9oVQf15AK0W",
        "outputId": "b10d3407-0957-4417-9a21-6a53d3c03737"
      },
      "execution_count": null,
      "outputs": [
        {
          "output_type": "stream",
          "name": "stdout",
          "text": [
            "tensor([[0.0426, 0.9370, 0.5943],\n",
            "        [0.9736, 0.9646, 0.6275]])\n",
            "0.5943241715431213\n",
            "tensor([0.7340, 0.4004, 0.0248, 0.0426, 0.9370, 0.5943, 0.9736, 0.9646, 0.6275,\n",
            "        0.6849, 0.4495, 0.1598, 0.3819, 0.8652, 0.5290])\n",
            "tensor([[0.7340, 0.4004, 0.0248, 0.0426, 0.9370],\n",
            "        [0.5943, 0.9736, 0.9646, 0.6275, 0.6849],\n",
            "        [0.4495, 0.1598, 0.3819, 0.8652, 0.5290]])\n"
          ]
        }
      ]
    },
    {
      "cell_type": "markdown",
      "source": [
        "Tensor and numpy are linked"
      ],
      "metadata": {
        "id": "WGPzFACDB8BE"
      }
    },
    {
      "cell_type": "code",
      "source": [
        "import torch\n",
        "import numpy as np\n",
        "\n",
        "a = torch.ones(5) # a is a tensor in CPU\n",
        "#print(a)\n",
        "b = a.numpy()     # b is a numpy matrix in CPU, a and b are linked because both are on CPU\n",
        "print(b)\n",
        "\n",
        "# if we modify a or b, the other is modifed\n",
        "a.add_(1)\n",
        "print(a)\n",
        "print(b)\n",
        "\n",
        "# numpy to torch\n",
        "c = np.ones(5)\n",
        "d = torch.from_numpy(c)\n",
        "c += 1\n",
        "print(c)\n",
        "print(d)"
      ],
      "metadata": {
        "colab": {
          "base_uri": "https://localhost:8080/"
        },
        "id": "TIzfIyftBVqT",
        "outputId": "b3e7ce00-1951-41bb-af76-ad1efb4d84a4"
      },
      "execution_count": null,
      "outputs": [
        {
          "output_type": "stream",
          "name": "stdout",
          "text": [
            "tensor([1., 1., 1., 1., 1.])\n",
            "[1. 1. 1. 1. 1.]\n",
            "tensor([2., 2., 2., 2., 2.])\n",
            "[2. 2. 2. 2. 2.]\n",
            "[2. 2. 2. 2. 2.]\n",
            "tensor([2., 2., 2., 2., 2.], dtype=torch.float64)\n"
          ]
        }
      ]
    },
    {
      "cell_type": "markdown",
      "source": [
        "Escificamos el device de cuda"
      ],
      "metadata": {
        "id": "kznE2l0bDMhh"
      }
    },
    {
      "cell_type": "code",
      "source": [
        "import torch\n",
        "import numpy as np\n",
        "\n",
        "if torch.cuda.is_available():\n",
        "  device = torch.device(\"cuda\")\n",
        "  x = torch.ones(2, 2, device=device)  # x is in GPU\n",
        "  y = torch.ones(2, 2) # y is in CPU\n",
        "  y = y.to(device) # movemos a GPU\n",
        "  z = x + y # it performs in GPU\n",
        "  z = z.to(\"cpu\") # regresamos z al cpu\n"
      ],
      "metadata": {
        "id": "aivx2DHMDQ97"
      },
      "execution_count": null,
      "outputs": []
    },
    {
      "cell_type": "markdown",
      "source": [
        "# Gradients"
      ],
      "metadata": {
        "id": "vEX2A715Kj10"
      }
    },
    {
      "cell_type": "markdown",
      "source": [
        "PyTorch tiene la opción de calcular las gradientes (derivadas parciales en el algoritmo de backpropagation). <br>\n",
        "\n",
        "Por ejemplo para la función: $f = z(y(x))$, <br>\n",
        " donde: <br>\n",
        " $z = \\frac{1}{n} \\sum_{i = 1}^{n} (y_i)$ <br>\n",
        " $ y = x²$ <br>\n",
        " $z =\\frac{1}{n} \\sum_{i = 1}^{n} (x_i^2)$ <br>\n",
        "\n",
        "Entonces, la derivada parcial usando la regla de la cadena: $ \\frac{ \\partial{z}}{\\partial{x}} = \\frac{ \\partial{z}}{\\partial{y}} \\frac{ \\partial{y}}{\\partial{x}}$ \\\\\n",
        "\n",
        "Para $i = 1$ y $x=[ 0.5, 0.25, 0.125, 0.1 ]$ \\\\\n",
        "$\\frac{ \\partial{z}}{\\partial{y_1}} = \\frac{1}{n} \\left[ \\frac{\\partial{y_1}}{\\partial{y_1}} + \\frac{\\partial{y_2}}{\\partial{y_1}} +\\frac{\\partial{y_3}}{\\partial{y_1}} +\\frac{\\partial{y_4}}{\\partial{y_1}} \\right]$ \\\\\n",
        "\n",
        "Como estoy derivando respecto a $y_1$, entonces $y_2, y_3, y_4$ son constantes y serán ceros al derivar.\n",
        "\n",
        "$\\frac{ \\partial{z}}{\\partial{y_1}} = \\frac{1}{n} = \\frac{1}{4}$ \\\\\n",
        "\n",
        "Luego, la deriva parcial de $y$ respecto a $x_1$: \\\\\n",
        "\n",
        "$\\frac{ \\partial{y}}{\\partial{x_1}} = 2x$ \\\\\n",
        "\n",
        "Finalmente:\n",
        "\n",
        "$\\frac{ \\partial{z}}{\\partial{x_1}} = \\frac{x}{2}$ \\\\\n",
        "\n",
        "PyTorch, tiene un forma de calcular estas derivadas.\n",
        "\n",
        "\n"
      ],
      "metadata": {
        "id": "x_o2_-BGKqJc"
      }
    },
    {
      "cell_type": "code",
      "source": [
        "import torch\n",
        "\n",
        "x = torch.tensor( [0.5, 0.25, 0.125, 0.1], requires_grad = True )\n",
        "\n",
        "# feed forward\n",
        "y = x**2\n",
        "z = y.mean()\n",
        "\n",
        "print(z)\n",
        "\n",
        "# backporpagation\n",
        "z.backward()\n",
        "print(x.grad) # aqui tenemos las gradientes para x_1, x_2, x_3 y x_4\n",
        "print(x/2)    # es lo mismo a lo que calculmos antes dz/dx = x/2\n"
      ],
      "metadata": {
        "colab": {
          "base_uri": "https://localhost:8080/"
        },
        "id": "o36tuL5FO8ST",
        "outputId": "8d99b6d4-a193-4ac4-db47-af74e4b6f66a"
      },
      "execution_count": null,
      "outputs": [
        {
          "output_type": "stream",
          "name": "stdout",
          "text": [
            "tensor(0.0845, grad_fn=<MeanBackward0>)\n",
            "tensor([0.2500, 0.1250, 0.0625, 0.0500])\n",
            "tensor([0.2500, 0.1250, 0.0625, 0.0500], grad_fn=<DivBackward0>)\n"
          ]
        }
      ]
    },
    {
      "cell_type": "markdown",
      "source": [
        "Para quitar las gradientes de un tensor"
      ],
      "metadata": {
        "id": "B7WKQVZhKojL"
      }
    },
    {
      "cell_type": "code",
      "source": [
        "import torch\n",
        "x = torch.randn(3, requires_grad=True)\n",
        "print(x)\n",
        "\n",
        "#option 1\n",
        "x.requires_grad_(False)\n",
        "print(x)\n",
        "\n",
        "#option 2\n",
        "x.detach()\n"
      ],
      "metadata": {
        "colab": {
          "base_uri": "https://localhost:8080/"
        },
        "id": "cW4SxSnKPMEh",
        "outputId": "9a3b0990-39fd-4a3d-b4d9-4d456d09772e"
      },
      "execution_count": null,
      "outputs": [
        {
          "output_type": "stream",
          "name": "stdout",
          "text": [
            "tensor([-0.0166,  1.5275,  0.9359], requires_grad=True)\n",
            "tensor([-0.0166,  1.5275,  0.9359])\n"
          ]
        },
        {
          "output_type": "execute_result",
          "data": {
            "text/plain": [
              "tensor([-0.0166,  1.5275,  0.9359])"
            ]
          },
          "metadata": {},
          "execution_count": 5
        }
      ]
    },
    {
      "cell_type": "markdown",
      "source": [
        "# Regresión lineal con Numpy"
      ],
      "metadata": {
        "id": "q2m1gJsXmaiP"
      }
    },
    {
      "cell_type": "markdown",
      "source": [
        "Regresion lineal con numpy. En este caso es una versión simple: $h(x) = wx$"
      ],
      "metadata": {
        "id": "y1dTfwM4pPAR"
      }
    },
    {
      "cell_type": "code",
      "source": [
        "import torch\n",
        "import numpy as np\n",
        "\n",
        "\n",
        "# f = w * x\n",
        "X = np.array( [1, 2, 3, 4], dtype=np.float32 )\n",
        "Y = np.array( [2, 4, 6, 8], dtype=np.float32 )\n",
        "\n",
        "# h = theta_0 * x  solo usamos un parametro\n",
        "w = 0.0\n",
        "\n",
        "# model prediction\n",
        "def forward(x):\n",
        "  return w * x\n",
        "\n",
        "# loss\n",
        "def loss(y, y_pred):\n",
        "  return ((y - y_pred)**2).mean()/2\n",
        "\n",
        "# gradientes\n",
        "# MSE = 1/2m * (w*x - y)**2\n",
        "# dJ/dw = 1/m  (w*x - y)*x\n",
        "def gradient(x, y, y_pred):\n",
        "  return np.dot(x, y_pred - y).mean()\n",
        "\n",
        "print(f'Prediction before training: f(5) = {forward(5):.3f}')\n",
        "\n",
        "# training\n",
        "learning_rate = 0.02\n",
        "n_iters = 10\n",
        "\n",
        "for epoch in range(n_iters):\n",
        "  # predciton = forward pass\n",
        "  y_pred = forward(X)\n",
        "\n",
        "  # loss\n",
        "  l = loss(Y, y_pred)\n",
        "\n",
        "  # gradients\n",
        "  dw = gradient(X, Y, y_pred)\n",
        "\n",
        "  # update weights\n",
        "  w -= learning_rate * dw\n",
        "\n",
        "  if epoch % 1 == 0:\n",
        "    print(f'epoch {epoch+1}: w = {w:.3f}, loss = {l:0.3f}')"
      ],
      "metadata": {
        "colab": {
          "base_uri": "https://localhost:8080/"
        },
        "id": "FdJIA19JmsmA",
        "outputId": "ea533771-0be4-4422-860b-32c3926cb382"
      },
      "execution_count": null,
      "outputs": [
        {
          "output_type": "stream",
          "name": "stdout",
          "text": [
            "Prediction before training: f(5) = 0.000\n",
            "epoch 1: w = 1.200, loss = 15.000\n",
            "epoch 2: w = 1.680, loss = 2.400\n",
            "epoch 3: w = 1.872, loss = 0.384\n",
            "epoch 4: w = 1.949, loss = 0.061\n",
            "epoch 5: w = 1.980, loss = 0.010\n",
            "epoch 6: w = 1.992, loss = 0.002\n",
            "epoch 7: w = 1.997, loss = 0.000\n",
            "epoch 8: w = 1.999, loss = 0.000\n",
            "epoch 9: w = 1.999, loss = 0.000\n",
            "epoch 10: w = 2.000, loss = 0.000\n"
          ]
        }
      ]
    },
    {
      "cell_type": "markdown",
      "source": [
        "Regresion lineal con numpy. En este caso con dos parametros: $h(x) = w_0 + w_1x$"
      ],
      "metadata": {
        "id": "4Z2ZuBpHqJJC"
      }
    },
    {
      "cell_type": "code",
      "source": [
        "import torch\n",
        "import numpy as np\n",
        "\n",
        "\n",
        "X = np.array( [1, 2, 3, 4], dtype=np.float32 )\n",
        "Y = np.array( [3, 5, 7, 9], dtype=np.float32 )\n",
        "\n",
        "# h = w0 + w1 * x\n",
        "w0 = np.random.rand()\n",
        "w1 = np.random.rand()\n",
        "\n",
        "# model prediction\n",
        "def forward(x):\n",
        "  return w0 + w1 * x\n",
        "\n",
        "# loss\n",
        "def loss(y, y_pred):\n",
        "  return ((y - y_pred)**2).mean()/2\n",
        "\n",
        "# gradientes\n",
        "# MSE = 1/2m * (w0 + w1*x - y)**2\n",
        "# dJ/dw0 = 1/m (w0 + w1*x - y)\n",
        "# dJ/dw1 = 1/m (w0 + w1*x - y)*x\n",
        "def gradient(x, y, y_pred):\n",
        "  return (y_pred - y).mean(), np.dot(x, y_pred - y).mean()\n",
        "\n",
        "print(f'Prediction before training: f(5) = {forward(5):.3f}')\n",
        "\n",
        "# training\n",
        "learning_rate = 0.01\n",
        "n_iters = 30\n",
        "\n",
        "for epoch in range(n_iters):\n",
        "  # predciton = forward pass\n",
        "  y_pred = forward(X)\n",
        "\n",
        "  # loss\n",
        "  l = loss(Y, y_pred)\n",
        "\n",
        "  # gradients\n",
        "  dw0, dw1 = gradient(X, Y, y_pred)\n",
        "\n",
        "  # update weights\n",
        "  w0 -= learning_rate * dw0\n",
        "  w1 -= learning_rate * dw1\n",
        "\n",
        "  if epoch % 1 == 0:\n",
        "    print(f'epoch {epoch+1}: w0 = {w0:.3f}, w1 = {w1:.3f}, loss = {l:0.3f}')\n",
        "\n",
        "y_pred = forward(X)\n",
        "print(Y)\n",
        "print(y_pred)"
      ],
      "metadata": {
        "colab": {
          "base_uri": "https://localhost:8080/"
        },
        "id": "anAh07rbqHMB",
        "outputId": "7b47febc-6f6c-47ba-d398-b44850ed89ec"
      },
      "execution_count": null,
      "outputs": [
        {
          "output_type": "stream",
          "name": "stdout",
          "text": [
            "Prediction before training: f(5) = 4.132\n",
            "epoch 1: w0 = 0.340, w1 = 1.206, loss = 8.106\n",
            "epoch 2: w0 = 0.367, w1 = 1.510, loss = 3.892\n",
            "epoch 3: w0 = 0.385, w1 = 1.720, loss = 1.876\n",
            "epoch 4: w0 = 0.399, w1 = 1.866, loss = 0.912\n",
            "epoch 5: w0 = 0.408, w1 = 1.966, loss = 0.450\n",
            "epoch 6: w0 = 0.415, w1 = 2.036, loss = 0.230\n",
            "epoch 7: w0 = 0.420, w1 = 2.083, loss = 0.124\n",
            "epoch 8: w0 = 0.423, w1 = 2.116, loss = 0.073\n",
            "epoch 9: w0 = 0.426, w1 = 2.139, loss = 0.049\n",
            "epoch 10: w0 = 0.428, w1 = 2.155, loss = 0.038\n",
            "epoch 11: w0 = 0.430, w1 = 2.166, loss = 0.032\n",
            "epoch 12: w0 = 0.432, w1 = 2.173, loss = 0.029\n",
            "epoch 13: w0 = 0.433, w1 = 2.178, loss = 0.028\n",
            "epoch 14: w0 = 0.434, w1 = 2.181, loss = 0.027\n",
            "epoch 15: w0 = 0.436, w1 = 2.183, loss = 0.027\n",
            "epoch 16: w0 = 0.437, w1 = 2.185, loss = 0.027\n",
            "epoch 17: w0 = 0.438, w1 = 2.186, loss = 0.026\n",
            "epoch 18: w0 = 0.439, w1 = 2.186, loss = 0.026\n",
            "epoch 19: w0 = 0.440, w1 = 2.186, loss = 0.026\n",
            "epoch 20: w0 = 0.441, w1 = 2.187, loss = 0.026\n",
            "epoch 21: w0 = 0.441, w1 = 2.187, loss = 0.026\n",
            "epoch 22: w0 = 0.442, w1 = 2.186, loss = 0.026\n",
            "epoch 23: w0 = 0.443, w1 = 2.186, loss = 0.026\n",
            "epoch 24: w0 = 0.444, w1 = 2.186, loss = 0.026\n",
            "epoch 25: w0 = 0.445, w1 = 2.186, loss = 0.026\n",
            "epoch 26: w0 = 0.446, w1 = 2.186, loss = 0.026\n",
            "epoch 27: w0 = 0.447, w1 = 2.185, loss = 0.026\n",
            "epoch 28: w0 = 0.448, w1 = 2.185, loss = 0.025\n",
            "epoch 29: w0 = 0.449, w1 = 2.185, loss = 0.025\n",
            "epoch 30: w0 = 0.450, w1 = 2.184, loss = 0.025\n",
            "[3. 5. 7. 9.]\n",
            "[2.6340487 4.818485  7.002921  9.187358 ]\n"
          ]
        }
      ]
    },
    {
      "cell_type": "markdown",
      "source": [
        "### Linear regression Sklearn"
      ],
      "metadata": {
        "id": "pwQfbxZJ8Y-s"
      }
    },
    {
      "cell_type": "code",
      "source": [
        "import numpy as np\n",
        "from sklearn.linear_model import LinearRegression\n",
        "\n",
        "X = np.array([[1, 1], [1, 2], [2, 2], [2, 3]])\n",
        "# y = 1 * x_0 + 2 * x_1 + 3\n",
        "y = np.dot(X, np.array([1, 2])) + 3\n",
        "\n",
        "reg = LinearRegression().fit(X, y)\n",
        "print(reg.score(X, y))\n",
        "print(reg.coef_)\n",
        "print(reg.intercept_)\n",
        "reg.predict(np.array([[3, 5]]))"
      ],
      "metadata": {
        "colab": {
          "base_uri": "https://localhost:8080/"
        },
        "id": "zGdti3QG8YG-",
        "outputId": "029d23b1-d258-4260-a5ca-6e9511f37060"
      },
      "execution_count": null,
      "outputs": [
        {
          "output_type": "stream",
          "name": "stdout",
          "text": [
            "1.0\n",
            "[1. 2.]\n",
            "3.0000000000000018\n"
          ]
        },
        {
          "output_type": "execute_result",
          "data": {
            "text/plain": [
              "array([16.])"
            ]
          },
          "metadata": {},
          "execution_count": 7
        }
      ]
    },
    {
      "cell_type": "markdown",
      "source": [],
      "metadata": {
        "id": "Yl90Gbtv78rM"
      }
    },
    {
      "cell_type": "code",
      "source": [
        "\n"
      ],
      "metadata": {
        "colab": {
          "base_uri": "https://localhost:8080/"
        },
        "id": "dzv4UuBztrmj",
        "outputId": "8e2f6f6b-5486-4a13-d0be-8b847a431dc1"
      },
      "execution_count": null,
      "outputs": [
        {
          "output_type": "execute_result",
          "data": {
            "text/plain": [
              "4.738"
            ]
          },
          "metadata": {},
          "execution_count": 23
        }
      ]
    },
    {
      "cell_type": "markdown",
      "source": [
        "# Regresión lineal con PyTorch"
      ],
      "metadata": {
        "id": "snzq88EReDA_"
      }
    },
    {
      "cell_type": "code",
      "source": [
        "import torch\n",
        "import numpy as np\n",
        "\n",
        "\n",
        "# f = w * x\n",
        "X = torch.tensor( [1, 2, 3, 4], dtype=torch.float32 )\n",
        "Y = torch.tensor( [2, 4, 6, 8], dtype=torch.float32 )\n",
        "\n",
        "# h = theta_0 * x  solo usamos un parametro\n",
        "w = torch.tensor(0.0, dtype=torch.float32, requires_grad=True)\n",
        "\n",
        "# model prediction\n",
        "def forward(x):\n",
        "  return w * x\n",
        "\n",
        "# loss\n",
        "def loss(y, y_pred):\n",
        "  return ((y - y_pred)**2).mean()/2\n",
        "\n",
        "# gradientes\n",
        "# MSE = 1/2m * (w*x - y)**2\n",
        "# dJ/dw = 1/m  (w*x - y)*x\n",
        "def gradient(x, y, y_pred):\n",
        "  return np.dot(x, y_pred - y).mean()\n",
        "\n",
        "print(f'Prediction before training: f(5) = {forward(5):.3f}')\n",
        "\n",
        "# training\n",
        "learning_rate = 0.02\n",
        "n_iters = 40\n",
        "\n",
        "for epoch in range(n_iters):\n",
        "  # predciton = forward pass\n",
        "  y_pred = forward(X)\n",
        "\n",
        "  # loss\n",
        "  l = loss(Y, y_pred)\n",
        "\n",
        "  # gradients\n",
        "  #dw = gradient(X, Y, y_pred)\n",
        "  l.backward()\n",
        "\n",
        "  with torch.no_grad(): # no grad xq, no queremos que esta operación no se considere en las gradientes\n",
        "    # update weights\n",
        "    w -= learning_rate * w.grad\n",
        "\n",
        "  w.grad.zero_() # renicializamos las gradientes para que no se acumulen\n",
        "\n",
        "  if epoch % 1 == 0:\n",
        "    print(f'epoch {epoch+1}: w = {w:.3f}, loss = {l:0.3f}')"
      ],
      "metadata": {
        "colab": {
          "base_uri": "https://localhost:8080/"
        },
        "id": "sG6MKn-vBWq_",
        "outputId": "3077a36f-814e-42f1-c8c2-e7f94c8ba5d9"
      },
      "execution_count": null,
      "outputs": [
        {
          "output_type": "stream",
          "name": "stdout",
          "text": [
            "Prediction before training: f(5) = 0.000\n",
            "epoch 1: w = 0.300, loss = 15.000\n",
            "epoch 2: w = 0.555, loss = 10.837\n",
            "epoch 3: w = 0.772, loss = 7.830\n",
            "epoch 4: w = 0.956, loss = 5.657\n",
            "epoch 5: w = 1.113, loss = 4.087\n",
            "epoch 6: w = 1.246, loss = 2.953\n",
            "epoch 7: w = 1.359, loss = 2.134\n",
            "epoch 8: w = 1.455, loss = 1.542\n",
            "epoch 9: w = 1.537, loss = 1.114\n",
            "epoch 10: w = 1.606, loss = 0.805\n",
            "epoch 11: w = 1.665, loss = 0.581\n",
            "epoch 12: w = 1.716, loss = 0.420\n",
            "epoch 13: w = 1.758, loss = 0.303\n",
            "epoch 14: w = 1.794, loss = 0.219\n",
            "epoch 15: w = 1.825, loss = 0.158\n",
            "epoch 16: w = 1.851, loss = 0.114\n",
            "epoch 17: w = 1.874, loss = 0.083\n",
            "epoch 18: w = 1.893, loss = 0.060\n",
            "epoch 19: w = 1.909, loss = 0.043\n",
            "epoch 20: w = 1.922, loss = 0.031\n",
            "epoch 21: w = 1.934, loss = 0.023\n",
            "epoch 22: w = 1.944, loss = 0.016\n",
            "epoch 23: w = 1.952, loss = 0.012\n",
            "epoch 24: w = 1.960, loss = 0.008\n",
            "epoch 25: w = 1.966, loss = 0.006\n",
            "epoch 26: w = 1.971, loss = 0.004\n",
            "epoch 27: w = 1.975, loss = 0.003\n",
            "epoch 28: w = 1.979, loss = 0.002\n",
            "epoch 29: w = 1.982, loss = 0.002\n",
            "epoch 30: w = 1.985, loss = 0.001\n",
            "epoch 31: w = 1.987, loss = 0.001\n",
            "epoch 32: w = 1.989, loss = 0.001\n",
            "epoch 33: w = 1.991, loss = 0.000\n",
            "epoch 34: w = 1.992, loss = 0.000\n",
            "epoch 35: w = 1.993, loss = 0.000\n",
            "epoch 36: w = 1.994, loss = 0.000\n",
            "epoch 37: w = 1.995, loss = 0.000\n",
            "epoch 38: w = 1.996, loss = 0.000\n",
            "epoch 39: w = 1.996, loss = 0.000\n",
            "epoch 40: w = 1.997, loss = 0.000\n"
          ]
        }
      ]
    },
    {
      "cell_type": "markdown",
      "source": [
        "Regresión lineal utilizando un optimizer y loss de pytorch"
      ],
      "metadata": {
        "id": "IwgDiIM5Dwe2"
      }
    },
    {
      "cell_type": "code",
      "source": [
        "import torch\n",
        "import torch.nn as nn\n",
        "\n",
        "\n",
        "# f = w * x\n",
        "X = torch.tensor( [1, 2, 3, 4], dtype=torch.float32 )\n",
        "Y = torch.tensor( [2, 4, 6, 8], dtype=torch.float32 )\n",
        "\n",
        "# h = theta_0 * x  solo usamos un parametro\n",
        "w = torch.tensor(0.0, dtype=torch.float32, requires_grad=True)\n",
        "\n",
        "learning_rate = 0.02\n",
        "n_iters = 40\n",
        "\n",
        "# model prediction\n",
        "def forward(x):\n",
        "  return w * x\n",
        "\n",
        "# loss\n",
        "loss = nn.MSELoss()\n",
        "\n",
        "optimizer = torch.optim.SGD([w], lr=learning_rate)\n",
        "\n",
        "print(f'Prediction before training: f(5) = {forward(5):.3f}')\n",
        "\n",
        "# training\n",
        "\n",
        "for epoch in range(n_iters):\n",
        "  # predciton = forward pass\n",
        "  y_pred = forward(X)\n",
        "\n",
        "  # loss\n",
        "  l = loss(Y, y_pred)\n",
        "\n",
        "  # gradients\n",
        "  l.backward()\n",
        "\n",
        "  optimizer.step() # actualiza los parametros\n",
        "\n",
        "  optimizer.zero_grad()\n",
        "\n",
        "  if epoch % 1 == 0:\n",
        "    print(f'epoch {epoch+1}: w = {w:.3f}, loss = {l:0.3f}')"
      ],
      "metadata": {
        "colab": {
          "base_uri": "https://localhost:8080/"
        },
        "id": "hU9GbQGAD4V2",
        "outputId": "c60033de-245f-4903-c434-ba64ce3e197f"
      },
      "execution_count": null,
      "outputs": [
        {
          "output_type": "stream",
          "name": "stdout",
          "text": [
            "Prediction before training: f(5) = 0.000\n",
            "epoch 1: w = 0.600, loss = 30.000\n",
            "epoch 2: w = 1.020, loss = 14.700\n",
            "epoch 3: w = 1.314, loss = 7.203\n",
            "epoch 4: w = 1.520, loss = 3.529\n",
            "epoch 5: w = 1.664, loss = 1.729\n",
            "epoch 6: w = 1.765, loss = 0.847\n",
            "epoch 7: w = 1.835, loss = 0.415\n",
            "epoch 8: w = 1.885, loss = 0.203\n",
            "epoch 9: w = 1.919, loss = 0.100\n",
            "epoch 10: w = 1.944, loss = 0.049\n",
            "epoch 11: w = 1.960, loss = 0.024\n",
            "epoch 12: w = 1.972, loss = 0.012\n",
            "epoch 13: w = 1.981, loss = 0.006\n",
            "epoch 14: w = 1.986, loss = 0.003\n",
            "epoch 15: w = 1.991, loss = 0.001\n",
            "epoch 16: w = 1.993, loss = 0.001\n",
            "epoch 17: w = 1.995, loss = 0.000\n",
            "epoch 18: w = 1.997, loss = 0.000\n",
            "epoch 19: w = 1.998, loss = 0.000\n",
            "epoch 20: w = 1.998, loss = 0.000\n",
            "epoch 21: w = 1.999, loss = 0.000\n",
            "epoch 22: w = 1.999, loss = 0.000\n",
            "epoch 23: w = 1.999, loss = 0.000\n",
            "epoch 24: w = 2.000, loss = 0.000\n",
            "epoch 25: w = 2.000, loss = 0.000\n",
            "epoch 26: w = 2.000, loss = 0.000\n",
            "epoch 27: w = 2.000, loss = 0.000\n",
            "epoch 28: w = 2.000, loss = 0.000\n",
            "epoch 29: w = 2.000, loss = 0.000\n",
            "epoch 30: w = 2.000, loss = 0.000\n",
            "epoch 31: w = 2.000, loss = 0.000\n",
            "epoch 32: w = 2.000, loss = 0.000\n",
            "epoch 33: w = 2.000, loss = 0.000\n",
            "epoch 34: w = 2.000, loss = 0.000\n",
            "epoch 35: w = 2.000, loss = 0.000\n",
            "epoch 36: w = 2.000, loss = 0.000\n",
            "epoch 37: w = 2.000, loss = 0.000\n",
            "epoch 38: w = 2.000, loss = 0.000\n",
            "epoch 39: w = 2.000, loss = 0.000\n",
            "epoch 40: w = 2.000, loss = 0.000\n"
          ]
        }
      ]
    },
    {
      "cell_type": "markdown",
      "source": [
        "Regresión lineal utilizando, loss, optimizer y model de PyTorch"
      ],
      "metadata": {
        "id": "rVFcvU6aFTEW"
      }
    },
    {
      "cell_type": "code",
      "source": [
        "\"\"\"\n",
        "1) design model\n",
        "2) construct loss and optimizer\n",
        "3) training\n",
        "    - forward pass\n",
        "    - backward pass, compute gradients\n",
        "    - update parameters\n",
        "\"\"\"\n",
        "import torch\n",
        "import torch.nn as nn\n",
        "\n",
        "X = torch.tensor( [[1], [2], [3], [4]], dtype=torch.float32 )\n",
        "Y = torch.tensor( [[2], [4], [6], [8]], dtype=torch.float32 )\n",
        "X_test = torch.tensor( [5], dtype=torch.float32 )\n",
        "\n",
        "n_samples, n_features = X.shape\n",
        "\n",
        "input_size = n_features\n",
        "output_size  = n_features\n",
        "\n",
        "# option 1 -> use Linear directly\n",
        "# model = nn.Linear(input_size, output_size)\n",
        "\n",
        "# option 2 -> create a class\n",
        "class MyLinearRegression(nn.Module):\n",
        "  def __init__(self, input_file, output_file):\n",
        "    super(MyLinearRegression, self).__init__()\n",
        "\n",
        "    # layers\n",
        "    self.lin = nn.Linear(input_size, output_size)\n",
        "\n",
        "  def forward(self, x):\n",
        "    return self.lin(x)\n",
        "\n",
        "model = MyLinearRegression(input_size, output_size)\n",
        "###################################################\n",
        "\n",
        "learning_rate = 0.02\n",
        "n_iters = 40\n",
        "\n",
        "print(f'Prediction before training: f(5) = {model(X_test).item():.3f}')\n",
        "\n",
        "# loss\n",
        "loss = nn.MSELoss()\n",
        "\n",
        "# optimizer\n",
        "optimizer = torch.optim.SGD(model.parameters(), lr=learning_rate)\n",
        "\n",
        "# training\n",
        "for epoch in range(n_iters):\n",
        "  # forward pass\n",
        "  y_pred = model(X)\n",
        "\n",
        "  # loss\n",
        "  l = loss(Y, y_pred)\n",
        "\n",
        "  # gradients\n",
        "  l.backward()\n",
        "\n",
        "  optimizer.step() # actualiza los parametros\n",
        "\n",
        "  optimizer.zero_grad()\n",
        "\n",
        "  if epoch % 1 == 0:\n",
        "    [w, b] = model.parameters()\n",
        "    print(f'epoch {epoch+1}: w = {w[0][0].item():.3f}, loss = {l:0.3f}')"
      ],
      "metadata": {
        "colab": {
          "base_uri": "https://localhost:8080/"
        },
        "id": "8YayjEJxFV5R",
        "outputId": "84a863dd-556e-4f7d-cb78-9e7e7061f4d1"
      },
      "execution_count": null,
      "outputs": [
        {
          "output_type": "stream",
          "name": "stdout",
          "text": [
            "Prediction before training: f(5) = -4.467\n",
            "epoch 1: w = 0.025, loss = 64.021\n",
            "epoch 2: w = 0.609, loss = 28.438\n",
            "epoch 3: w = 0.999, loss = 12.655\n",
            "epoch 4: w = 1.259, loss = 5.654\n",
            "epoch 5: w = 1.432, loss = 2.548\n",
            "epoch 6: w = 1.548, loss = 1.171\n",
            "epoch 7: w = 1.626, loss = 0.559\n",
            "epoch 8: w = 1.678, loss = 0.287\n",
            "epoch 9: w = 1.713, loss = 0.166\n",
            "epoch 10: w = 1.737, loss = 0.112\n",
            "epoch 11: w = 1.753, loss = 0.087\n",
            "epoch 12: w = 1.765, loss = 0.076\n",
            "epoch 13: w = 1.773, loss = 0.071\n",
            "epoch 14: w = 1.778, loss = 0.068\n",
            "epoch 15: w = 1.783, loss = 0.066\n",
            "epoch 16: w = 1.786, loss = 0.065\n",
            "epoch 17: w = 1.788, loss = 0.064\n",
            "epoch 18: w = 1.790, loss = 0.063\n",
            "epoch 19: w = 1.792, loss = 0.062\n",
            "epoch 20: w = 1.794, loss = 0.062\n",
            "epoch 21: w = 1.795, loss = 0.061\n",
            "epoch 22: w = 1.797, loss = 0.060\n",
            "epoch 23: w = 1.798, loss = 0.059\n",
            "epoch 24: w = 1.799, loss = 0.059\n",
            "epoch 25: w = 1.801, loss = 0.058\n",
            "epoch 26: w = 1.802, loss = 0.057\n",
            "epoch 27: w = 1.803, loss = 0.057\n",
            "epoch 28: w = 1.804, loss = 0.056\n",
            "epoch 29: w = 1.805, loss = 0.055\n",
            "epoch 30: w = 1.807, loss = 0.055\n",
            "epoch 31: w = 1.808, loss = 0.054\n",
            "epoch 32: w = 1.809, loss = 0.053\n",
            "epoch 33: w = 1.810, loss = 0.053\n",
            "epoch 34: w = 1.811, loss = 0.052\n",
            "epoch 35: w = 1.812, loss = 0.051\n",
            "epoch 36: w = 1.813, loss = 0.051\n",
            "epoch 37: w = 1.815, loss = 0.050\n",
            "epoch 38: w = 1.816, loss = 0.050\n",
            "epoch 39: w = 1.817, loss = 0.049\n",
            "epoch 40: w = 1.818, loss = 0.048\n"
          ]
        }
      ]
    },
    {
      "cell_type": "markdown",
      "source": [
        "# Regresión lineal (completo)"
      ],
      "metadata": {
        "id": "atJQZ75qKtTl"
      }
    },
    {
      "cell_type": "code",
      "source": [
        "\"\"\"\n",
        "1) design model\n",
        "2) construct loss and optimizer\n",
        "3) training\n",
        "    - forward pass\n",
        "    - backward pass, compute gradients\n",
        "    - update parameters\n",
        "\"\"\"\n",
        "\n",
        "import torch\n",
        "import torch.nn as nn\n",
        "import numpy as np\n",
        "from sklearn import datasets\n",
        "import matplotlib.pyplot as plt\n",
        "\n",
        "# prepare datasets\n",
        "X_numpy, y_numpy = datasets.make_regression(n_samples=100, n_features=1, noise = 20, random_state=1)\n",
        "\n",
        "X = torch.from_numpy(X_numpy.astype(np.float32))\n",
        "y = torch.from_numpy(y_numpy.astype(np.float32))\n",
        "y = y.view(y.shape[0], 1)\n",
        "\n",
        "n_samples, n_features = X.shape\n",
        "\n",
        "# model\n",
        "input_size = n_features\n",
        "output_size = 1\n",
        "model = nn.Linear(input_size, output_size)\n",
        "\n",
        "# loss and optimizer\n",
        "learning_rate = 0.01\n",
        "criterion = nn.MSELoss()\n",
        "optimizer = torch.optim.SGD(model.parameters(), lr=learning_rate)\n",
        "\n",
        "# training loop\n",
        "num_epochs = 100\n",
        "for epoch in range(num_epochs):\n",
        "  # forwars pass\n",
        "  y_predicted = model(X)\n",
        "  loss = criterion(y_predicted, y)\n",
        "\n",
        "  # backward pass\n",
        "  loss.backward()\n",
        "\n",
        "  # update\n",
        "  optimizer.step()\n",
        "\n",
        "  optimizer.zero_grad()\n",
        "\n",
        "  if (epoch+1) % 10 == 0:\n",
        "    print(f'epoch: {epoch+1}, loss: {loss.item():.4f}')\n",
        "\n",
        "\n",
        "# plot\n",
        "predicted = model(X).detach().numpy()\n",
        "plt.plot(X_numpy, y_numpy, 'ro')\n",
        "plt.plot(X_numpy, predicted, 'b')\n",
        "plt.show()\n",
        "\n",
        "\n"
      ],
      "metadata": {
        "id": "6C478qDvKywm",
        "colab": {
          "base_uri": "https://localhost:8080/",
          "height": 604
        },
        "outputId": "7af9ffff-4220-4098-dd75-2810d6518b0c"
      },
      "execution_count": null,
      "outputs": [
        {
          "output_type": "stream",
          "name": "stdout",
          "text": [
            "epoch: 10, loss: 4293.2505\n",
            "epoch: 20, loss: 3204.7151\n",
            "epoch: 30, loss: 2417.2241\n",
            "epoch: 40, loss: 1846.9069\n",
            "epoch: 50, loss: 1433.4591\n",
            "epoch: 60, loss: 1133.4550\n",
            "epoch: 70, loss: 915.5817\n",
            "epoch: 80, loss: 757.2305\n",
            "epoch: 90, loss: 642.0568\n",
            "epoch: 100, loss: 558.2316\n"
          ]
        },
        {
          "output_type": "display_data",
          "data": {
            "text/plain": [
              "<Figure size 640x480 with 1 Axes>"
            ],
            "image/png": "[encoded data removed]"
          },
          "metadata": {}
        }
      ]
    },
    {
      "cell_type": "markdown",
      "source": [
        "# Regresión logística con PyTorch"
      ],
      "metadata": {
        "id": "qGAqg2z3xzOz"
      }
    },
    {
      "cell_type": "code",
      "source": [
        "\"\"\"\n",
        "1) design model\n",
        "2) construct loss and optimizer\n",
        "3) training\n",
        "    - forward pass\n",
        "    - backward pass, compute gradients\n",
        "    - update parameters\n",
        "\"\"\"\n",
        "\n",
        "import torch\n",
        "import torch.nn as nn\n",
        "import numpy as np\n",
        "from sklearn import datasets\n",
        "from sklearn.preprocessing import StandardScaler\n",
        "from sklearn.model_selection import train_test_split\n",
        "import matplotlib.pyplot as plt\n",
        "\n",
        "# prepare datasets\n",
        "bc = datasets.load_breast_cancer() # binary dataset\n",
        "X, y = bc.data, bc.target\n",
        "\n",
        "n_samples, n_features = X.shape\n",
        "\n",
        "X_train, X_test, y_train, y_test = train_test_split(X, y, test_size=0.2, random_state = 1234)\n",
        "\n",
        "# scale\n",
        "sc = StandardScaler()\n",
        "X_train = sc.fit_transform(X_train)\n",
        "X_test = sc.fit_transform(X_test)\n",
        "\n",
        "X_train = torch.from_numpy(X_train.astype(np.float32))\n",
        "X_test = torch.from_numpy(X_test.astype(np.float32))\n",
        "y_train = torch.from_numpy(y_train.astype(np.float32))\n",
        "y_test = torch.from_numpy(y_test.astype(np.float32))\n",
        "\n",
        "y_train = y_train.view(y_train.shape[0], 1)\n",
        "y_test = y_test.view(y_test.shape[0], 1)\n",
        "\n",
        "\n",
        "# model\n",
        "# f = wx + b, sigmoid at the end\n",
        "class LogisticRegression(nn.Module):\n",
        "  def __init__(self, n_input_features):\n",
        "    super(LogisticRegression, self).__init__()\n",
        "    self.linear = nn.Linear(n_input_features, 1)\n",
        "\n",
        "  def forward(self, x):\n",
        "    y_predicted = torch.sigmoid(self.linear(x))\n",
        "    return y_predicted\n",
        "\n",
        "model = LogisticRegression(n_features)\n",
        "\n",
        "\n",
        "# loss and optimizer\n",
        "learning_rate = 0.01\n",
        "criterion = nn.BCELoss()\n",
        "optimizer = torch.optim.SGD(model.parameters(), lr=learning_rate)\n",
        "\n",
        "# training loop\n",
        "num_epochs = 100\n",
        "for epoch in range(num_epochs):\n",
        "  # forwars pass\n",
        "  y_predicted = model(X_train)\n",
        "  loss = criterion(y_predicted, y_train)\n",
        "\n",
        "  # backward pass\n",
        "  loss.backward()\n",
        "\n",
        "  # update\n",
        "  optimizer.step()\n",
        "\n",
        "  optimizer.zero_grad()\n",
        "\n",
        "  if (epoch+1) % 10 == 0:\n",
        "    print(f'epoch: {epoch+1}, loss: {loss.item():.4f}')\n",
        "\n",
        "# si nohacemos esto, y_predicted.round() será considerado parte del grafo para el compute de las gradientes\n",
        "with torch.no_grad():\n",
        "  y_predicted = model(X_test)\n",
        "  y_predicted_cls = y_predicted.round()\n",
        "  acc = y_predicted_cls.eq(y_test).sum() / float(y_test.shape[0])\n",
        "  print(f'accuracy: {acc:.4f}')\n",
        "\n",
        "\n",
        "\n"
      ],
      "metadata": {
        "colab": {
          "base_uri": "https://localhost:8080/"
        },
        "id": "SX6C57fOx596",
        "outputId": "0084042d-bb97-4017-8ac3-1fe2b0e3085f"
      },
      "execution_count": null,
      "outputs": [
        {
          "output_type": "stream",
          "name": "stdout",
          "text": [
            "epoch: 10, loss: 0.4420\n",
            "epoch: 20, loss: 0.3927\n",
            "epoch: 30, loss: 0.3562\n",
            "epoch: 40, loss: 0.3279\n",
            "epoch: 50, loss: 0.3052\n",
            "epoch: 60, loss: 0.2865\n",
            "epoch: 70, loss: 0.2707\n",
            "epoch: 80, loss: 0.2572\n",
            "epoch: 90, loss: 0.2454\n",
            "epoch: 100, loss: 0.2351\n",
            "accuracy: 0.9123\n"
          ]
        }
      ]
    }
  ]
}